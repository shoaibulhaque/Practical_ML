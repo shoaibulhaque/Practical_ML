{
  "nbformat": 4,
  "nbformat_minor": 0,
  "metadata": {
    "colab": {
      "provenance": []
    },
    "kernelspec": {
      "name": "python3",
      "display_name": "Python 3"
    },
    "language_info": {
      "name": "python"
    }
  },
  "cells": [
    {
      "cell_type": "code",
      "execution_count": 3,
      "metadata": {
        "id": "EZeg8TMrdc7r"
      },
      "outputs": [],
      "source": [
        "import numpy as np"
      ]
    },
    {
      "cell_type": "markdown",
      "source": [
        "NumPy is a general-purpose array-processing Python library which provides handy methods/functions for working n-dimensional arrays. NumPy is a short form for “Numerical Python“. It provides various computing tools such as comprehensive mathematical functions, and linear algebra routines"
      ],
      "metadata": {
        "id": "aLzxaPZwDjOM"
      }
    },
    {
      "cell_type": "markdown",
      "source": [
        "# What is the benefit of using NumPy?"
      ],
      "metadata": {
        "id": "OFI4BHWpEANJ"
      }
    },
    {
      "cell_type": "markdown",
      "source": [
        "* **Efficiency**: NumPy’s arrays are stored in contiguous memory, allowing for faster access and manipulation compared to traditional Python lists.\n",
        "* **Vectorized operations**: NumPy allows you to perform operations on entire arrays at once, significantly improving performance.\n",
        "* **Versatility**: NumPy provides a wide range of mathematical functions, data types, and array manipulation tools.\n",
        "* **Ease of use**: NumPy’s syntax is straightforward and intuitive, making it easy to learn and use.\n",
        "* **Integration**: NumPy integrates seamlessly with other popular scientific libraries like SciPy, Pandas, and Matplotlib."
      ],
      "metadata": {
        "id": "yIj258acEBL_"
      }
    },
    {
      "cell_type": "markdown",
      "source": [
        "# Creating ndarrays"
      ],
      "metadata": {
        "id": "9G90S_bwBNfv"
      }
    },
    {
      "cell_type": "markdown",
      "source": [
        "The easiest way to create an array is to use the array function. This accepts any sequence-like object and produces a new NumPy array containing the passed data. For example, a list is a good candidate for conversion:"
      ],
      "metadata": {
        "id": "hodF2rjM_nRR"
      }
    },
    {
      "cell_type": "code",
      "source": [
        "data1 = [6, 7.5, 8, 0, 1]"
      ],
      "metadata": {
        "id": "BCRkbBS8fulV"
      },
      "execution_count": 4,
      "outputs": []
    },
    {
      "cell_type": "code",
      "source": [
        "arr1 = np.array(data1)\n",
        "arr1"
      ],
      "metadata": {
        "colab": {
          "base_uri": "https://localhost:8080/"
        },
        "id": "E9QBkApLf_R7",
        "outputId": "4699c673-4d4c-4fb7-815e-cf3c37de6f5c"
      },
      "execution_count": 5,
      "outputs": [
        {
          "output_type": "execute_result",
          "data": {
            "text/plain": [
              "array([6. , 7.5, 8. , 0. , 1. ])"
            ]
          },
          "metadata": {},
          "execution_count": 5
        }
      ]
    },
    {
      "cell_type": "markdown",
      "source": [
        "# 1D NumPy Array:"
      ],
      "metadata": {
        "id": "7p85OSbISu74"
      }
    },
    {
      "cell_type": "markdown",
      "source": [
        "A 1D NumPy array is essentially a list of elements. It has a single dimension, like a vector in mathematics."
      ],
      "metadata": {
        "id": "ChZ2zaN6SzHw"
      }
    },
    {
      "cell_type": "code",
      "source": [
        "# Creating a 1D NumPy array\n",
        "arr_1d = np.array([1, 2, 3, 4, 5])\n",
        "print(arr_1d)\n",
        "arr_1d.ndim"
      ],
      "metadata": {
        "colab": {
          "base_uri": "https://localhost:8080/"
        },
        "id": "8RyYyx9nSv5X",
        "outputId": "598861ad-b253-49d9-cb73-3995ab8acc43"
      },
      "execution_count": 6,
      "outputs": [
        {
          "output_type": "stream",
          "name": "stdout",
          "text": [
            "[1 2 3 4 5]\n"
          ]
        },
        {
          "output_type": "execute_result",
          "data": {
            "text/plain": [
              "1"
            ]
          },
          "metadata": {},
          "execution_count": 6
        }
      ]
    },
    {
      "cell_type": "markdown",
      "source": [
        "# 2D NumPy Array:"
      ],
      "metadata": {
        "id": "Td5OV4o5THD3"
      }
    },
    {
      "cell_type": "markdown",
      "source": [
        "A 2D NumPy array is a grid of elements, where each row is a 1D array. It's like a matrix with rows and columns"
      ],
      "metadata": {
        "id": "76HcQsmbTIjl"
      }
    },
    {
      "cell_type": "code",
      "source": [
        "# Creating a 2D NumPy array\n",
        "arr_2d = np.array([[1, 2, 3],\n",
        "                   [4, 5, 6],\n",
        "                   [7, 8, 9]])\n",
        "print(arr_2d)\n",
        "arr_2d.ndim"
      ],
      "metadata": {
        "colab": {
          "base_uri": "https://localhost:8080/"
        },
        "id": "kv7xN6rsTTU1",
        "outputId": "129780d0-44fb-4286-dac8-aabba066d0af"
      },
      "execution_count": 7,
      "outputs": [
        {
          "output_type": "stream",
          "name": "stdout",
          "text": [
            "[[1 2 3]\n",
            " [4 5 6]\n",
            " [7 8 9]]\n"
          ]
        },
        {
          "output_type": "execute_result",
          "data": {
            "text/plain": [
              "2"
            ]
          },
          "metadata": {},
          "execution_count": 7
        }
      ]
    },
    {
      "cell_type": "markdown",
      "source": [
        "# 3D NumPy Array:"
      ],
      "metadata": {
        "id": "DLmKdMsjTbGk"
      }
    },
    {
      "cell_type": "markdown",
      "source": [
        "A 3D NumPy array is like a cube of elements, with multiple 2D arrays stacked together. It can be visualized as multiple matrices arranged in layers"
      ],
      "metadata": {
        "id": "hZP--q8xTcHa"
      }
    },
    {
      "cell_type": "code",
      "source": [
        "# Creating a 3D NumPy array\n",
        "arr_3d = np.array([[[1, 2, 3],\n",
        "                    [4, 5, 6]],\n",
        "                   [[7, 8, 9],\n",
        "                    [10, 11, 12]],\n",
        "                   [[13, 14, 15],\n",
        "                    [16, 17, 18]]])\n",
        "print(arr_3d)"
      ],
      "metadata": {
        "colab": {
          "base_uri": "https://localhost:8080/"
        },
        "id": "9LxFbjyTUSVA",
        "outputId": "3a975a50-8880-475d-9860-51875c420d99"
      },
      "execution_count": 8,
      "outputs": [
        {
          "output_type": "stream",
          "name": "stdout",
          "text": [
            "[[[ 1  2  3]\n",
            "  [ 4  5  6]]\n",
            "\n",
            " [[ 7  8  9]\n",
            "  [10 11 12]]\n",
            "\n",
            " [[13 14 15]\n",
            "  [16 17 18]]]\n"
          ]
        }
      ]
    },
    {
      "cell_type": "code",
      "source": [
        "arr_3d.ndim"
      ],
      "metadata": {
        "colab": {
          "base_uri": "https://localhost:8080/"
        },
        "id": "5UKN5cH6g02x",
        "outputId": "a9ac9d1e-607d-4410-fdc1-cec666efbde5"
      },
      "execution_count": 9,
      "outputs": [
        {
          "output_type": "execute_result",
          "data": {
            "text/plain": [
              "3"
            ]
          },
          "metadata": {},
          "execution_count": 9
        }
      ]
    },
    {
      "cell_type": "code",
      "source": [
        "arr_3d.shape"
      ],
      "metadata": {
        "colab": {
          "base_uri": "https://localhost:8080/"
        },
        "id": "ZfkkIC1Sg6LR",
        "outputId": "2e24da60-bbbd-4da7-b090-3c804400dcb1"
      },
      "execution_count": 10,
      "outputs": [
        {
          "output_type": "execute_result",
          "data": {
            "text/plain": [
              "(3, 2, 3)"
            ]
          },
          "metadata": {},
          "execution_count": 10
        }
      ]
    },
    {
      "cell_type": "markdown",
      "source": [
        "# Axes in Numpy\n",
        "NumPy arrays can have multiple dimensions, but to perform operations on specific parts of the array, we need a way to reference them. This is where axes come in. Axes are essentially the dimensions along which a NumPy array is organized, similar to how a coordinate system works.\n",
        "\n",
        "In a 2-dimensional array, which is the most common scenario, we have two axes:\n",
        "\n",
        "**Axis 0 (vertical):** Represents the rows of the array.\n",
        "\n",
        "**Axis 1 (horizontal):** Represents the columns of the array.\n",
        "Here's a code snippet to create a 2D array and access elements by axis:"
      ],
      "metadata": {
        "id": "EDAj7R_xFUc6"
      }
    },
    {
      "cell_type": "code",
      "source": [
        "# Create a 2D array\n",
        "data = np.array([[1, 2, 3],\n",
        "                 [4, 5, 6],\n",
        "                 [7, 8, 9]])\n",
        "\n",
        "# Accessing elements by axis\n",
        "print(data[0, 1])  # Access element at row 0 (first row), column 1 (second column)\n",
        "print(data[1])  # Access all elements in row 1 (second row)\n",
        "print(data[:, 2])  # Access all elements in column 2 (third column)"
      ],
      "metadata": {
        "id": "UpxLLLW6F3k_",
        "outputId": "002f5922-df9d-48e0-e18b-c32b9e2ec6d6",
        "colab": {
          "base_uri": "https://localhost:8080/"
        }
      },
      "execution_count": 12,
      "outputs": [
        {
          "output_type": "stream",
          "name": "stdout",
          "text": [
            "2\n",
            "[4 5 6]\n",
            "[3 6 9]\n"
          ]
        }
      ]
    },
    {
      "cell_type": "markdown",
      "source": [
        "As you can see, we can access individual elements using their row and column indices, or we can access entire rows or columns by specifying the axis."
      ],
      "metadata": {
        "id": "FyqahwGNtBhe"
      }
    },
    {
      "cell_type": "markdown",
      "source": [
        "# Operations along Axes\n",
        "\n",
        "Many NumPy functions operate along axes. By specifying the axis argument, you can control whether the operation is performed across rows (axis=0) or columns (axis=1).\n",
        "\n",
        "For example, let's calculate the mean of each row and column of the array:\n",
        "\n"
      ],
      "metadata": {
        "id": "NxsHLRSAtGPO"
      }
    },
    {
      "cell_type": "code",
      "source": [
        "# Find mean of each row (axis=0)\n",
        "mean_of_rows = np.mean(data, axis=0)\n",
        "\n",
        "# Find mean of each column (axis=1)\n",
        "mean_of_columns = np.mean(data, axis=1)\n",
        "\n",
        "print(mean_of_rows)\n",
        "print(mean_of_columns)"
      ],
      "metadata": {
        "id": "v4klD44gtKdq",
        "outputId": "0ab8c2d9-5b84-4d4f-f058-0bd04c1e333a",
        "colab": {
          "base_uri": "https://localhost:8080/"
        }
      },
      "execution_count": 13,
      "outputs": [
        {
          "output_type": "stream",
          "name": "stdout",
          "text": [
            "[4. 5. 6.]\n",
            "[2. 5. 8.]\n"
          ]
        }
      ]
    },
    {
      "cell_type": "markdown",
      "source": [
        "Here, `np.mean(data, axis=0)` calculates the mean along axis 0 (rows), resulting in a new array with the average values of each column. Similarly, `np.mean(data, axis=1)` calculates the mean along axis 1 (columns), giving us the average values of each row.\n",
        "\n",
        "# Higher Dimensional Arrays\n",
        "\n",
        "The concept of axes extends to higher dimensional arrays as well. For instance, a 3D array would have three axes: axis 0 for rows, axis 1 for columns, and axis 2 for depth (or \"slices\"). Operations can be performed along any of these axes.\n",
        "\n",
        "By understanding axes, you can effectively manipulate and analyze data in NumPy arrays. Remember, axis 0 refers to rows and axis 1 refers to columns in most cases. This is a fundamental concept for working with NumPy arrays!\n",
        "\n",
        "\n",
        "---\n",
        "\n"
      ],
      "metadata": {
        "id": "tPYOkXIgtQ01"
      }
    },
    {
      "cell_type": "markdown",
      "source": [
        "Unless explicitly specified, np.array tries to infer a good data type for the array that it creates. The data type is stored in a special dtype object; for example, in the above two examples:"
      ],
      "metadata": {
        "id": "g4-MWbKg_zOn"
      }
    },
    {
      "cell_type": "code",
      "source": [
        "arr_2d.dtype"
      ],
      "metadata": {
        "colab": {
          "base_uri": "https://localhost:8080/"
        },
        "id": "JwNC-i6qi9Ng",
        "outputId": "7a885f65-7c0e-449e-ba79-65c8be281af6"
      },
      "execution_count": 15,
      "outputs": [
        {
          "output_type": "execute_result",
          "data": {
            "text/plain": [
              "dtype('int64')"
            ]
          },
          "metadata": {},
          "execution_count": 15
        }
      ]
    },
    {
      "cell_type": "code",
      "source": [
        "arr3 = np.array([1, 2, 3], dtype=np.float64)\n",
        "arr3"
      ],
      "metadata": {
        "colab": {
          "base_uri": "https://localhost:8080/"
        },
        "id": "2KP2mS8ljJkw",
        "outputId": "b59452a8-260c-49b5-a73d-c416bbf1f7a2"
      },
      "execution_count": 16,
      "outputs": [
        {
          "output_type": "execute_result",
          "data": {
            "text/plain": [
              "array([1., 2., 3.])"
            ]
          },
          "metadata": {},
          "execution_count": 16
        }
      ]
    },
    {
      "cell_type": "code",
      "source": [
        "arr4 = np.array([1, 2, 3], dtype=np.int32)\n",
        "arr4"
      ],
      "metadata": {
        "colab": {
          "base_uri": "https://localhost:8080/"
        },
        "id": "WwANZm0SjMKm",
        "outputId": "6ec9c915-fdf9-41fc-a3a4-f71b38f75588"
      },
      "execution_count": 17,
      "outputs": [
        {
          "output_type": "execute_result",
          "data": {
            "text/plain": [
              "array([1, 2, 3], dtype=int32)"
            ]
          },
          "metadata": {},
          "execution_count": 17
        }
      ]
    },
    {
      "cell_type": "code",
      "source": [
        "arr3.dtype"
      ],
      "metadata": {
        "colab": {
          "base_uri": "https://localhost:8080/"
        },
        "id": "T6pftzyTjtxV",
        "outputId": "dd8c4826-34fc-4e8d-dfd3-9d61b5f04dcd"
      },
      "execution_count": 18,
      "outputs": [
        {
          "output_type": "execute_result",
          "data": {
            "text/plain": [
              "dtype('float64')"
            ]
          },
          "metadata": {},
          "execution_count": 18
        }
      ]
    },
    {
      "cell_type": "code",
      "source": [
        "arr4.dtype"
      ],
      "metadata": {
        "colab": {
          "base_uri": "https://localhost:8080/"
        },
        "id": "jL5hKTfhjxuN",
        "outputId": "cb1d3c08-8a5a-4137-c601-99169def562f"
      },
      "execution_count": 19,
      "outputs": [
        {
          "output_type": "execute_result",
          "data": {
            "text/plain": [
              "dtype('int32')"
            ]
          },
          "metadata": {},
          "execution_count": 19
        }
      ]
    },
    {
      "cell_type": "markdown",
      "source": [
        "In addition to np.array, there are a number of other functions for creating new arrays. As examples, zeros and ones create arrays of 0’s or 1’s, with a given length or shape. empty creates an array without initializing its values to any particular value."
      ],
      "metadata": {
        "id": "OYlhzQOcBjyR"
      }
    },
    {
      "cell_type": "markdown",
      "source": [
        "To create a higher dimensional array with these methods, pass a tuple for the shape:"
      ],
      "metadata": {
        "id": "fEwzPjtXBoWP"
      }
    },
    {
      "cell_type": "code",
      "source": [
        "np.zeros(10)"
      ],
      "metadata": {
        "colab": {
          "base_uri": "https://localhost:8080/"
        },
        "id": "if-Ha2hRlPMh",
        "outputId": "dfdb2825-13a5-459e-b08f-a539a8c12e21"
      },
      "execution_count": 20,
      "outputs": [
        {
          "output_type": "execute_result",
          "data": {
            "text/plain": [
              "array([0., 0., 0., 0., 0., 0., 0., 0., 0., 0.])"
            ]
          },
          "metadata": {},
          "execution_count": 20
        }
      ]
    },
    {
      "cell_type": "code",
      "source": [
        "np.zeros((3, 6))"
      ],
      "metadata": {
        "colab": {
          "base_uri": "https://localhost:8080/"
        },
        "id": "XJeqOQnolTdv",
        "outputId": "ea477524-e3fa-4578-8599-a33ca4f9e42b"
      },
      "execution_count": 21,
      "outputs": [
        {
          "output_type": "execute_result",
          "data": {
            "text/plain": [
              "array([[0., 0., 0., 0., 0., 0.],\n",
              "       [0., 0., 0., 0., 0., 0.],\n",
              "       [0., 0., 0., 0., 0., 0.]])"
            ]
          },
          "metadata": {},
          "execution_count": 21
        }
      ]
    },
    {
      "cell_type": "code",
      "source": [
        "np.empty((2, 3, 2))"
      ],
      "metadata": {
        "colab": {
          "base_uri": "https://localhost:8080/"
        },
        "id": "aIwaN7oHlfKb",
        "outputId": "730c6a2c-ba6c-4739-98b7-124fce26607f"
      },
      "execution_count": 22,
      "outputs": [
        {
          "output_type": "execute_result",
          "data": {
            "text/plain": [
              "array([[[4.7870254e-310, 0.0000000e+000],\n",
              "        [0.0000000e+000, 0.0000000e+000],\n",
              "        [0.0000000e+000, 0.0000000e+000]],\n",
              "\n",
              "       [[0.0000000e+000, 0.0000000e+000],\n",
              "        [0.0000000e+000, 0.0000000e+000],\n",
              "        [0.0000000e+000, 0.0000000e+000]]])"
            ]
          },
          "metadata": {},
          "execution_count": 22
        }
      ]
    },
    {
      "cell_type": "markdown",
      "source": [
        "arange is an array-valued version of the built-in Python range function:"
      ],
      "metadata": {
        "id": "pYrS4yasBxsz"
      }
    },
    {
      "cell_type": "code",
      "source": [
        "np.arange(15)"
      ],
      "metadata": {
        "colab": {
          "base_uri": "https://localhost:8080/"
        },
        "id": "Et6YV5gnlkkU",
        "outputId": "a7b3d3cc-c8c7-48fa-a82e-117696916ca1"
      },
      "execution_count": 23,
      "outputs": [
        {
          "output_type": "execute_result",
          "data": {
            "text/plain": [
              "array([ 0,  1,  2,  3,  4,  5,  6,  7,  8,  9, 10, 11, 12, 13, 14])"
            ]
          },
          "metadata": {},
          "execution_count": 23
        }
      ]
    },
    {
      "cell_type": "markdown",
      "source": [
        "# Type conversion of ndarrays\n"
      ],
      "metadata": {
        "id": "BcjS_0r59Fcz"
      }
    },
    {
      "cell_type": "markdown",
      "source": [
        "An array can be explicitly converted or casted from one dtype to another using ndarray’s astype method:"
      ],
      "metadata": {
        "id": "DNn9rDoVCQRJ"
      }
    },
    {
      "cell_type": "code",
      "source": [
        "arr = np.array([1, 2, 3, 4, 5])\n",
        "arr.dtype"
      ],
      "metadata": {
        "colab": {
          "base_uri": "https://localhost:8080/"
        },
        "id": "NlqTv1RO9MQG",
        "outputId": "d8d5b2c7-2711-4a28-9118-ce0953560ed9"
      },
      "execution_count": 24,
      "outputs": [
        {
          "output_type": "execute_result",
          "data": {
            "text/plain": [
              "dtype('int64')"
            ]
          },
          "metadata": {},
          "execution_count": 24
        }
      ]
    },
    {
      "cell_type": "code",
      "source": [
        "float_arr = arr.astype(np.float64)\n",
        "float_arr.dtype\n",
        "\n",
        "float_arr"
      ],
      "metadata": {
        "colab": {
          "base_uri": "https://localhost:8080/"
        },
        "id": "rjWQpB989mQa",
        "outputId": "9cd36717-c62e-45e7-f467-ffd6e5ea5fb5"
      },
      "execution_count": 25,
      "outputs": [
        {
          "output_type": "execute_result",
          "data": {
            "text/plain": [
              "dtype('float64')"
            ]
          },
          "metadata": {},
          "execution_count": 25
        }
      ]
    },
    {
      "cell_type": "markdown",
      "source": [
        "In this example, integers were cast to floating point. If some floating point numbers are casted to be of integer dtype, the decimal part will be truncated:"
      ],
      "metadata": {
        "id": "xLAmcImzCWvn"
      }
    },
    {
      "cell_type": "code",
      "source": [
        "arr = np.array([3.7, -1.2, -2.6, 0.5, 12.9, 10.1])\n",
        "arr.dtype"
      ],
      "metadata": {
        "colab": {
          "base_uri": "https://localhost:8080/"
        },
        "id": "JUPZ6TRL98vY",
        "outputId": "606f9a0d-b588-4aae-bf7b-3c60e473bf09"
      },
      "execution_count": null,
      "outputs": [
        {
          "output_type": "execute_result",
          "data": {
            "text/plain": [
              "dtype('float64')"
            ]
          },
          "metadata": {},
          "execution_count": 122
        }
      ]
    },
    {
      "cell_type": "code",
      "source": [
        "arr.astype(np.int32)"
      ],
      "metadata": {
        "colab": {
          "base_uri": "https://localhost:8080/"
        },
        "id": "hvzLBMMd-EGI",
        "outputId": "bd98bf9e-594e-455a-aa13-69d71b099e7b"
      },
      "execution_count": null,
      "outputs": [
        {
          "output_type": "execute_result",
          "data": {
            "text/plain": [
              "array([ 3, -1, -2,  0, 12, 10], dtype=int32)"
            ]
          },
          "metadata": {},
          "execution_count": 123
        }
      ]
    },
    {
      "cell_type": "markdown",
      "source": [
        "In case of an array of strings representing numbers, astype can be used to convert them to numeric form:"
      ],
      "metadata": {
        "id": "qdh81UThCijg"
      }
    },
    {
      "cell_type": "code",
      "source": [
        "numeric_strings = np.array(['1.25', '-9.6', '42'], dtype=np.string_)\n",
        "numeric_strings.astype(float)\n"
      ],
      "metadata": {
        "colab": {
          "base_uri": "https://localhost:8080/"
        },
        "id": "nwoIJSL6-Ouk",
        "outputId": "940c21d2-3519-4050-a99d-c530dda4eaed"
      },
      "execution_count": null,
      "outputs": [
        {
          "output_type": "execute_result",
          "data": {
            "text/plain": [
              "array([ 1.25, -9.6 , 42.  ])"
            ]
          },
          "metadata": {},
          "execution_count": 124
        }
      ]
    },
    {
      "cell_type": "code",
      "source": [
        "int_array = np.arange(10)\n",
        "calibers = np.array([.22, .270, .357, .380, .44, .50], dtype=np.float64)"
      ],
      "metadata": {
        "id": "8RPyNTXg-vFC"
      },
      "execution_count": null,
      "outputs": []
    },
    {
      "cell_type": "code",
      "source": [
        "int_array.astype(calibers.dtype)"
      ],
      "metadata": {
        "colab": {
          "base_uri": "https://localhost:8080/"
        },
        "id": "MDHr8dfN-6Iu",
        "outputId": "df10e07a-a8a8-4d5a-fe56-e600660ab926"
      },
      "execution_count": null,
      "outputs": [
        {
          "output_type": "execute_result",
          "data": {
            "text/plain": [
              "array([0., 1., 2., 3., 4., 5., 6., 7., 8., 9.])"
            ]
          },
          "metadata": {},
          "execution_count": 126
        }
      ]
    },
    {
      "cell_type": "markdown",
      "source": [
        "There are shorthand type code strings that can also be used to refer to a dtype:"
      ],
      "metadata": {
        "id": "WwFH1bfM_RMv"
      }
    },
    {
      "cell_type": "code",
      "source": [
        "empty_uint32 = np.empty(8, dtype='u4')\n",
        "empty_uint32"
      ],
      "metadata": {
        "colab": {
          "base_uri": "https://localhost:8080/"
        },
        "id": "U7Q1VDL3_MXh",
        "outputId": "e10e05e4-fbd5-4de3-aa48-2c7781112fd3"
      },
      "execution_count": null,
      "outputs": [
        {
          "output_type": "execute_result",
          "data": {
            "text/plain": [
              "array([         0, 1075314688,          0, 1075707904,          0,\n",
              "       1075838976,          0, 1072693248], dtype=uint32)"
            ]
          },
          "metadata": {},
          "execution_count": 127
        }
      ]
    },
    {
      "cell_type": "markdown",
      "source": [
        "# Operations between Arrays and Scalars"
      ],
      "metadata": {
        "id": "lyQt3Ms7CvMQ"
      }
    },
    {
      "cell_type": "markdown",
      "source": [
        "Arrays are important because they enable to express batch operations on data without writing any for loops. This is usually called vectorization. Any arithmetic operations between equal-size arrays applies the operation elementwise:"
      ],
      "metadata": {
        "id": "IUZ0e05UC1RH"
      }
    },
    {
      "cell_type": "code",
      "source": [
        "arr = np.array([[1., 2., 3.], [4., 5., 6.]])\n",
        "arr * arr"
      ],
      "metadata": {
        "colab": {
          "base_uri": "https://localhost:8080/"
        },
        "id": "PguK0mSrCw2w",
        "outputId": "6d1487db-f1f9-43e2-8e25-62d771299ada"
      },
      "execution_count": null,
      "outputs": [
        {
          "output_type": "execute_result",
          "data": {
            "text/plain": [
              "array([[ 1.,  4.,  9.],\n",
              "       [16., 25., 36.]])"
            ]
          },
          "metadata": {},
          "execution_count": 128
        }
      ]
    },
    {
      "cell_type": "code",
      "source": [
        "arr - arr"
      ],
      "metadata": {
        "colab": {
          "base_uri": "https://localhost:8080/"
        },
        "id": "PxDayX1GDIpC",
        "outputId": "f129e00a-c9d1-4c93-edd0-50bda3a6b7fc"
      },
      "execution_count": null,
      "outputs": [
        {
          "output_type": "execute_result",
          "data": {
            "text/plain": [
              "array([[0., 0., 0.],\n",
              "       [0., 0., 0.]])"
            ]
          },
          "metadata": {},
          "execution_count": 129
        }
      ]
    },
    {
      "cell_type": "markdown",
      "source": [
        "Arithmetic operations with scalars propagate the value to each element:"
      ],
      "metadata": {
        "id": "kqDaw1a1DNWp"
      }
    },
    {
      "cell_type": "code",
      "source": [
        "1 / arr"
      ],
      "metadata": {
        "colab": {
          "base_uri": "https://localhost:8080/"
        },
        "id": "XX5_Y49TDMv6",
        "outputId": "ec571095-5e8b-48b9-87ed-afe07ae79ade"
      },
      "execution_count": null,
      "outputs": [
        {
          "output_type": "execute_result",
          "data": {
            "text/plain": [
              "array([[1.        , 0.5       , 0.33333333],\n",
              "       [0.25      , 0.2       , 0.16666667]])"
            ]
          },
          "metadata": {},
          "execution_count": 130
        }
      ]
    },
    {
      "cell_type": "code",
      "source": [
        "arr ** 0.5"
      ],
      "metadata": {
        "colab": {
          "base_uri": "https://localhost:8080/"
        },
        "id": "L6ozvxwjDZ5x",
        "outputId": "76500b4e-bced-4215-9a6e-6017f2d45e62"
      },
      "execution_count": null,
      "outputs": [
        {
          "output_type": "execute_result",
          "data": {
            "text/plain": [
              "array([[1.        , 1.41421356, 1.73205081],\n",
              "       [2.        , 2.23606798, 2.44948974]])"
            ]
          },
          "metadata": {},
          "execution_count": 131
        }
      ]
    },
    {
      "cell_type": "markdown",
      "source": [
        "# Basic Indexing and Slicing"
      ],
      "metadata": {
        "id": "OhNQvBrND2jA"
      }
    },
    {
      "cell_type": "markdown",
      "source": [
        "NumPy array indexing is a rich topic, as there are many ways to select a subset of data or individual elements. One-dimensional arrays are simple; on the surface they act similarly to Python lists:"
      ],
      "metadata": {
        "id": "Jb5ajcMGD354"
      }
    },
    {
      "cell_type": "code",
      "source": [
        "arr = np.arange(10)\n",
        "arr"
      ],
      "metadata": {
        "colab": {
          "base_uri": "https://localhost:8080/"
        },
        "id": "HI6rPkaYD8D4",
        "outputId": "b75e85f0-55c0-4f31-e247-a5d45a7b3f63"
      },
      "execution_count": null,
      "outputs": [
        {
          "output_type": "execute_result",
          "data": {
            "text/plain": [
              "array([0, 1, 2, 3, 4, 5, 6, 7, 8, 9])"
            ]
          },
          "metadata": {},
          "execution_count": 132
        }
      ]
    },
    {
      "cell_type": "code",
      "source": [
        "arr[5]"
      ],
      "metadata": {
        "colab": {
          "base_uri": "https://localhost:8080/"
        },
        "id": "98BPW4zeETxS",
        "outputId": "e631da52-93b2-4416-b004-2e5483ebef6f"
      },
      "execution_count": null,
      "outputs": [
        {
          "output_type": "execute_result",
          "data": {
            "text/plain": [
              "5"
            ]
          },
          "metadata": {},
          "execution_count": 133
        }
      ]
    },
    {
      "cell_type": "code",
      "source": [
        "arr[5:8]"
      ],
      "metadata": {
        "colab": {
          "base_uri": "https://localhost:8080/"
        },
        "id": "GO5LAZbEEbAI",
        "outputId": "ad97dacb-1c03-43fa-ed86-8dae20f9d1cb"
      },
      "execution_count": null,
      "outputs": [
        {
          "output_type": "execute_result",
          "data": {
            "text/plain": [
              "array([5, 6, 7])"
            ]
          },
          "metadata": {},
          "execution_count": 134
        }
      ]
    },
    {
      "cell_type": "code",
      "source": [
        "arr[5:8] = 12\n",
        "arr"
      ],
      "metadata": {
        "colab": {
          "base_uri": "https://localhost:8080/"
        },
        "id": "5xdCoBGMEl4j",
        "outputId": "7afcd4a2-85fc-4918-87ac-759c0c79391b"
      },
      "execution_count": null,
      "outputs": [
        {
          "output_type": "execute_result",
          "data": {
            "text/plain": [
              "array([ 0,  1,  2,  3,  4, 12, 12, 12,  8,  9])"
            ]
          },
          "metadata": {},
          "execution_count": 135
        }
      ]
    },
    {
      "cell_type": "markdown",
      "source": [
        "It can be seen if a scalar value is assigned to a slice, as in arr[5:8] = 12, the value is propagated to the entire selection. An important first distinction from lists is that array slices are views on the original array. This means that the data is not copied, and any modifications to the view will be reflected in the source array:"
      ],
      "metadata": {
        "id": "GJMPRJb3ExEW"
      }
    },
    {
      "cell_type": "code",
      "source": [
        "arr_slice = arr[5:8]\n",
        "arr_slice"
      ],
      "metadata": {
        "colab": {
          "base_uri": "https://localhost:8080/"
        },
        "id": "wxXQ0SUBEyQS",
        "outputId": "ed5a9c36-13bc-4fd1-ff17-2ad522dc428f"
      },
      "execution_count": null,
      "outputs": [
        {
          "output_type": "execute_result",
          "data": {
            "text/plain": [
              "array([12, 12, 12])"
            ]
          },
          "metadata": {},
          "execution_count": 136
        }
      ]
    },
    {
      "cell_type": "code",
      "source": [
        "arr_slice[1] = 12345\n",
        "arr"
      ],
      "metadata": {
        "colab": {
          "base_uri": "https://localhost:8080/"
        },
        "id": "eqfaSMGxE8BX",
        "outputId": "1ae6bf94-a5fd-4ede-bd62-457581d633af"
      },
      "execution_count": null,
      "outputs": [
        {
          "output_type": "execute_result",
          "data": {
            "text/plain": [
              "array([    0,     1,     2,     3,     4,    12, 12345,    12,     8,\n",
              "           9])"
            ]
          },
          "metadata": {},
          "execution_count": 137
        }
      ]
    },
    {
      "cell_type": "code",
      "source": [
        "arr_slice[:] = 64\n",
        "arr"
      ],
      "metadata": {
        "colab": {
          "base_uri": "https://localhost:8080/"
        },
        "id": "UID_H8FPFUSb",
        "outputId": "f4e9ddfe-d71a-402b-91f7-0cb49df9b195"
      },
      "execution_count": null,
      "outputs": [
        {
          "output_type": "execute_result",
          "data": {
            "text/plain": [
              "array([ 0,  1,  2,  3,  4, 64, 64, 64,  8,  9])"
            ]
          },
          "metadata": {},
          "execution_count": 138
        }
      ]
    },
    {
      "cell_type": "markdown",
      "source": [
        "With higher dimensional arrays, there are many more options. In a two-dimensional array, the elements at each index are no longer scalars but rather one-dimensional arrays:"
      ],
      "metadata": {
        "id": "nZ2wnpddFoUE"
      }
    },
    {
      "cell_type": "code",
      "source": [
        "arr2d = np.array([[1, 2, 3], [4, 5, 6], [7, 8, 9]])\n",
        "arr2d.shape\n",
        "arr2d[2]"
      ],
      "metadata": {
        "colab": {
          "base_uri": "https://localhost:8080/"
        },
        "id": "Lhf01meHFq1k",
        "outputId": "b5665d2d-05fa-4c13-b60a-5b06a1755df9"
      },
      "execution_count": null,
      "outputs": [
        {
          "output_type": "execute_result",
          "data": {
            "text/plain": [
              "array([7, 8, 9])"
            ]
          },
          "metadata": {},
          "execution_count": 196
        }
      ]
    },
    {
      "cell_type": "markdown",
      "source": [
        "Thus, individual elements can be accessed recursively. But that is a bit too much work, so a comma-separated list of indices can be passed to select individual elements. So these are equivalent:"
      ],
      "metadata": {
        "id": "ZYeX9E24HhUZ"
      }
    },
    {
      "cell_type": "code",
      "source": [
        "arr2d[0][2]"
      ],
      "metadata": {
        "colab": {
          "base_uri": "https://localhost:8080/"
        },
        "id": "4yBaFdT7Hkc8",
        "outputId": "045e70f7-7fe6-4345-f555-570b975dfcf3"
      },
      "execution_count": null,
      "outputs": [
        {
          "output_type": "execute_result",
          "data": {
            "text/plain": [
              "3"
            ]
          },
          "metadata": {},
          "execution_count": 140
        }
      ]
    },
    {
      "cell_type": "markdown",
      "source": [
        "In multidimensional arrays, if later indices are omitted, the returned object will be a lower dimensional\n",
        "ndarray consisting of all the data along the higher dimensions. So in the 2 × 2 × 3 array arr3d"
      ],
      "metadata": {
        "id": "uCxz16KBKdnr"
      }
    },
    {
      "cell_type": "code",
      "source": [
        "arr3d = np.array([[[1, 2, 3], [4, 5, 6]], [[7, 8, 9], [10, 11,\n",
        "12]]])\n",
        "arr3d"
      ],
      "metadata": {
        "colab": {
          "base_uri": "https://localhost:8080/"
        },
        "id": "7qs9pKTiKe6L",
        "outputId": "2c66bee7-18b0-477e-f7f8-0e3cdb9a19ab"
      },
      "execution_count": null,
      "outputs": [
        {
          "output_type": "execute_result",
          "data": {
            "text/plain": [
              "array([[[ 1,  2,  3],\n",
              "        [ 4,  5,  6]],\n",
              "\n",
              "       [[ 7,  8,  9],\n",
              "        [10, 11, 12]]])"
            ]
          },
          "metadata": {},
          "execution_count": 141
        }
      ]
    },
    {
      "cell_type": "markdown",
      "source": [
        "arr3d[0] is a 2 × 3 array:"
      ],
      "metadata": {
        "id": "ds1MtZYbOFX_"
      }
    },
    {
      "cell_type": "code",
      "source": [
        "arr3d[0]"
      ],
      "metadata": {
        "colab": {
          "base_uri": "https://localhost:8080/"
        },
        "id": "aYMniBoJOHB4",
        "outputId": "41218abb-373e-43be-d1c0-f28cdccbde0d"
      },
      "execution_count": null,
      "outputs": [
        {
          "output_type": "execute_result",
          "data": {
            "text/plain": [
              "array([[1, 2, 3],\n",
              "       [4, 5, 6]])"
            ]
          },
          "metadata": {},
          "execution_count": 142
        }
      ]
    },
    {
      "cell_type": "markdown",
      "source": [
        "Both scalar values and arrays can be assigned to arr3d[0]:"
      ],
      "metadata": {
        "id": "g51Z0x1AQuzG"
      }
    },
    {
      "cell_type": "code",
      "source": [
        "old_values = arr3d[0].copy()\n",
        "arr3d[0] = 42\n",
        "arr3d"
      ],
      "metadata": {
        "colab": {
          "base_uri": "https://localhost:8080/"
        },
        "id": "T-HxqCg0QvbM",
        "outputId": "2529dcbc-f1b2-4757-c08d-57cdb29e9c58"
      },
      "execution_count": null,
      "outputs": [
        {
          "output_type": "execute_result",
          "data": {
            "text/plain": [
              "array([[[42, 42, 42],\n",
              "        [42, 42, 42]],\n",
              "\n",
              "       [[ 7,  8,  9],\n",
              "        [10, 11, 12]]])"
            ]
          },
          "metadata": {},
          "execution_count": 143
        }
      ]
    },
    {
      "cell_type": "code",
      "source": [
        "arr3d[0] = old_values\n",
        "arr3d"
      ],
      "metadata": {
        "colab": {
          "base_uri": "https://localhost:8080/"
        },
        "id": "BDpTbJX5Q5me",
        "outputId": "7e9f3eb9-793b-4807-dd38-47ce75065db2"
      },
      "execution_count": null,
      "outputs": [
        {
          "output_type": "execute_result",
          "data": {
            "text/plain": [
              "array([[[ 1,  2,  3],\n",
              "        [ 4,  5,  6]],\n",
              "\n",
              "       [[ 7,  8,  9],\n",
              "        [10, 11, 12]]])"
            ]
          },
          "metadata": {},
          "execution_count": 144
        }
      ]
    },
    {
      "cell_type": "markdown",
      "source": [
        "Similarly, arr3d[1, 0] gives all of the values whose indices start with (1, 0), forming a 1-dimensional\n",
        "array:"
      ],
      "metadata": {
        "id": "x1Xg2xSkRG5V"
      }
    },
    {
      "cell_type": "code",
      "source": [
        "arr3d[1, 0]"
      ],
      "metadata": {
        "colab": {
          "base_uri": "https://localhost:8080/"
        },
        "id": "qK1m0t03RH3t",
        "outputId": "ad32bd09-aa83-4612-a9ac-584a3a1da67f"
      },
      "execution_count": null,
      "outputs": [
        {
          "output_type": "execute_result",
          "data": {
            "text/plain": [
              "array([7, 8, 9])"
            ]
          },
          "metadata": {},
          "execution_count": 145
        }
      ]
    },
    {
      "cell_type": "markdown",
      "source": [
        "In all of these cases where subsections of the array have been selected, the returned arrays are views."
      ],
      "metadata": {
        "id": "RwJxOgDnRPIU"
      }
    },
    {
      "cell_type": "markdown",
      "source": [
        "# Slicing\n",
        "\n",
        "\n"
      ],
      "metadata": {
        "id": "TgitxavYRQMF"
      }
    },
    {
      "cell_type": "markdown",
      "source": [
        "Slicing refers to selecting a portion of the array using the colon : operator. The general syntax for slicing is array[start:stop:step], where start is the index to start from (inclusive), stop is the index to stop before (exclusive), and step is the step size between elements"
      ],
      "metadata": {
        "id": "HtQjNGj7YiGn"
      }
    },
    {
      "cell_type": "markdown",
      "source": [
        "# Slicing 1D-array"
      ],
      "metadata": {
        "id": "8XXDYph1Y5Ae"
      }
    },
    {
      "cell_type": "code",
      "source": [
        "# Creating a NumPy array\n",
        "arr = np.array([0, 1, 2, 3, 4, 5, 6, 7, 8, 9])"
      ],
      "metadata": {
        "id": "IG8kHClnY8Gd"
      },
      "execution_count": null,
      "outputs": []
    },
    {
      "cell_type": "code",
      "source": [
        "# Basic slicing\n",
        "slice1 = arr[2:6]  # Elements from index 2 to 5\n",
        "print(slice1)  # Output: [2 3 4 5]"
      ],
      "metadata": {
        "colab": {
          "base_uri": "https://localhost:8080/"
        },
        "id": "faGAzdFYZDge",
        "outputId": "2b08c06d-d7ac-4d27-e86c-804716148c3a"
      },
      "execution_count": null,
      "outputs": [
        {
          "output_type": "stream",
          "name": "stdout",
          "text": [
            "[2 3 4 5]\n"
          ]
        }
      ]
    },
    {
      "cell_type": "code",
      "source": [
        "# Slicing with step\n",
        "slice2 = arr[1:8:2]  # Elements from index 1 to 7 with a step of 2\n",
        "print(slice2)  # Output: [1 3 5 7]"
      ],
      "metadata": {
        "colab": {
          "base_uri": "https://localhost:8080/"
        },
        "id": "iA5zxPEpZG_1",
        "outputId": "c4a01297-15c2-4494-ef27-95f9098c1ec4"
      },
      "execution_count": null,
      "outputs": [
        {
          "output_type": "stream",
          "name": "stdout",
          "text": [
            "[1 3 5 7]\n"
          ]
        }
      ]
    },
    {
      "cell_type": "code",
      "source": [
        "# Slicing with negative step\n",
        "slice3 = arr[8:2:-1]  # Elements from index 8 to 3 with a step of -1\n",
        "print(slice3)  # Output: [8 7 6 5 4 3]"
      ],
      "metadata": {
        "colab": {
          "base_uri": "https://localhost:8080/"
        },
        "id": "mzkQIBmbZLFk",
        "outputId": "8760496d-2650-42b9-b271-552f20d827d9"
      },
      "execution_count": null,
      "outputs": [
        {
          "output_type": "stream",
          "name": "stdout",
          "text": [
            "[8 7 6 5 4 3]\n"
          ]
        }
      ]
    },
    {
      "cell_type": "code",
      "source": [
        "# Omitting start and stop indices\n",
        "slice4 = arr[:5]  # Elements from the beginning up to index 4\n",
        "print(slice4)  # Output: [0 1 2 3 4]"
      ],
      "metadata": {
        "colab": {
          "base_uri": "https://localhost:8080/"
        },
        "id": "ZN8-HR5AZTea",
        "outputId": "d5f8d837-edd6-4a65-82f4-613e0e9be274"
      },
      "execution_count": null,
      "outputs": [
        {
          "output_type": "stream",
          "name": "stdout",
          "text": [
            "[0 1 2 3 4]\n"
          ]
        }
      ]
    },
    {
      "cell_type": "code",
      "source": [
        "\n",
        "slice5 = arr[5:]  # Elements from index 5 to the end\n",
        "print(slice5)  # Output: [5 6 7 8 9]"
      ],
      "metadata": {
        "colab": {
          "base_uri": "https://localhost:8080/"
        },
        "id": "JVwl6ZELZWzN",
        "outputId": "04e630e2-e59b-40a2-83df-6a557c2bd2f6"
      },
      "execution_count": null,
      "outputs": [
        {
          "output_type": "stream",
          "name": "stdout",
          "text": [
            "[5 6 7 8 9]\n"
          ]
        }
      ]
    },
    {
      "cell_type": "markdown",
      "source": [
        "# Slicing 2D-array"
      ],
      "metadata": {
        "id": "DmZNetKmZc3g"
      }
    },
    {
      "cell_type": "code",
      "source": [
        "# Creating a 2D NumPy array\n",
        "arr_2d = np.array([[1, 2, 3],\n",
        "                   [4, 5, 6],\n",
        "                   [7, 8, 9]])"
      ],
      "metadata": {
        "id": "v96uOxJcZeEX"
      },
      "execution_count": null,
      "outputs": []
    },
    {
      "cell_type": "code",
      "source": [
        "# Selecting specific rows and columns\n",
        "slice_2d_1 = arr_2d[0:2, 1:3]  # Rows 0 and 1, columns 1 and 2\n",
        "print(slice_2d_1)"
      ],
      "metadata": {
        "colab": {
          "base_uri": "https://localhost:8080/"
        },
        "id": "i1Irs59jZrQb",
        "outputId": "ad8347c5-8554-4345-a069-2207ea7755fe"
      },
      "execution_count": null,
      "outputs": [
        {
          "output_type": "stream",
          "name": "stdout",
          "text": [
            "[[2 3]\n",
            " [5 6]]\n"
          ]
        }
      ]
    },
    {
      "cell_type": "code",
      "source": [
        "# Omitting start and stop indices for rows and columns\n",
        "slice_2d_2 = arr_2d[:, 1:]  # All rows, columns from index 1 to the end\n",
        "print(slice_2d_2)"
      ],
      "metadata": {
        "colab": {
          "base_uri": "https://localhost:8080/"
        },
        "id": "MV8tNF6wZv5I",
        "outputId": "0a4904ad-f4a0-4756-948c-2766c599c071"
      },
      "execution_count": null,
      "outputs": [
        {
          "output_type": "stream",
          "name": "stdout",
          "text": [
            "[[2 3]\n",
            " [5 6]\n",
            " [8 9]]\n"
          ]
        }
      ]
    },
    {
      "cell_type": "code",
      "source": [
        "# Slicing along one dimension\n",
        "slice_2d_3 = arr_2d[1, :]  # Selecting the second row\n",
        "print(slice_2d_3)"
      ],
      "metadata": {
        "colab": {
          "base_uri": "https://localhost:8080/"
        },
        "id": "l1TZvIgRaLU6",
        "outputId": "1c90aa34-c55c-4054-9821-ef41d3aa26de"
      },
      "execution_count": null,
      "outputs": [
        {
          "output_type": "stream",
          "name": "stdout",
          "text": [
            "[4 5 6]\n"
          ]
        }
      ]
    },
    {
      "cell_type": "code",
      "source": [
        "slice_2d_4 = arr_2d[:, 2]  # Selecting the third column\n",
        "print(slice_2d_4)"
      ],
      "metadata": {
        "colab": {
          "base_uri": "https://localhost:8080/"
        },
        "id": "9wPDoP9caO82",
        "outputId": "31e09027-93fb-4a29-f988-10797308b6e1"
      },
      "execution_count": null,
      "outputs": [
        {
          "output_type": "stream",
          "name": "stdout",
          "text": [
            "[3 6 9]\n"
          ]
        }
      ]
    },
    {
      "cell_type": "code",
      "source": [
        "# Slicing with step\n",
        "arr_2d_2 = np.array([[1, 2, 3, 4],\n",
        "                     [5, 6, 7, 8],\n",
        "                     [9, 10, 11, 12]])\n",
        "\n",
        "slice_2d_5 = arr_2d_2[::2, ::2]  # Selecting every other row and column\n",
        "print(slice_2d_5)"
      ],
      "metadata": {
        "colab": {
          "base_uri": "https://localhost:8080/"
        },
        "id": "U2crgENoaYup",
        "outputId": "9a16fc60-d3b6-412b-eb4c-b27b987ec561"
      },
      "execution_count": null,
      "outputs": [
        {
          "output_type": "stream",
          "name": "stdout",
          "text": [
            "[[ 1  3]\n",
            " [ 9 11]]\n"
          ]
        }
      ]
    },
    {
      "cell_type": "code",
      "source": [
        "# Slicing with negative step\n",
        "\n",
        "slice_2d_6 = arr_2d_2[::-1, ::-1]  # Reversing both rows and columns\n",
        "print(slice_2d_6)"
      ],
      "metadata": {
        "colab": {
          "base_uri": "https://localhost:8080/"
        },
        "id": "88coqmNhabi4",
        "outputId": "fa2eb61a-d5c3-4a40-edc6-7e308a0e7c8a"
      },
      "execution_count": null,
      "outputs": [
        {
          "output_type": "stream",
          "name": "stdout",
          "text": [
            "[[12 11 10  9]\n",
            " [ 8  7  6  5]\n",
            " [ 4  3  2  1]]\n"
          ]
        }
      ]
    },
    {
      "cell_type": "markdown",
      "source": [
        "# Slicing 3D-array"
      ],
      "metadata": {
        "id": "M9gdThVaag6R"
      }
    },
    {
      "cell_type": "code",
      "source": [
        "# Creating a 3D NumPy array\n",
        "import numpy as np\n",
        "arr_3d = np.array([[[1, 2, 3], [4, 5, 6]],\n",
        "                    [[7, 8, 9], [10, 11, 12]],\n",
        "                    [[13, 14, 15], [16, 17, 18]]])\n",
        "\n",
        "print(arr_3d.shape)\n",
        "\n",
        "# Selecting specific elements\n",
        "slice_3d_1 = arr_3d[1, 0, 2]  # Selecting element at index (1, 0, 2)\n",
        "print(slice_3d_1)"
      ],
      "metadata": {
        "colab": {
          "base_uri": "https://localhost:8080/"
        },
        "id": "VxEx0mITaiZS",
        "outputId": "f5f65e05-6f59-4dce-b861-a8e5b55a122e"
      },
      "execution_count": null,
      "outputs": [
        {
          "output_type": "stream",
          "name": "stdout",
          "text": [
            "(3, 2, 3)\n",
            "9\n"
          ]
        }
      ]
    },
    {
      "cell_type": "code",
      "source": [
        "# Slicing along one dimension\n",
        "slice_3d_2 = arr_3d[0, :, :]  # Selecting all elements from the first \"slice\" (2D array)\n",
        "print(slice_3d_2)"
      ],
      "metadata": {
        "colab": {
          "base_uri": "https://localhost:8080/"
        },
        "id": "Iak08VaKa7pJ",
        "outputId": "2a07ec9e-ea39-4218-d975-7b89245fd1a8"
      },
      "execution_count": null,
      "outputs": [
        {
          "output_type": "stream",
          "name": "stdout",
          "text": [
            "[[1 2 3]\n",
            " [4 5 6]]\n"
          ]
        }
      ]
    },
    {
      "cell_type": "code",
      "source": [
        "slice_3d_3 = arr_3d[:, :, 1]  # Selecting the second column from all \"slices\"\n",
        "print(slice_3d_3)"
      ],
      "metadata": {
        "colab": {
          "base_uri": "https://localhost:8080/"
        },
        "id": "pV_PcA10a-zf",
        "outputId": "5d3a269f-db08-41c0-d063-4b2e87ac322e"
      },
      "execution_count": null,
      "outputs": [
        {
          "output_type": "stream",
          "name": "stdout",
          "text": [
            "[[ 2  5]\n",
            " [ 8 11]\n",
            " [14 17]]\n"
          ]
        }
      ]
    },
    {
      "cell_type": "code",
      "source": [
        "# Slicing with step\n",
        "arr_3d_2 = np.array([[[1, 2, 3, 4], [5, 6, 7, 8]],\n",
        "                     [[9, 10, 11, 12], [13, 14, 15, 16]],\n",
        "                     [[17, 18, 19, 20], [21, 22, 23, 24]]])"
      ],
      "metadata": {
        "id": "skkZEEnOd9V2"
      },
      "execution_count": null,
      "outputs": []
    },
    {
      "cell_type": "code",
      "source": [
        "slice_3d_4 = arr_3d_2[:, ::2, ::2]  # Selecting every other row and column from all \"slices\"\n",
        "print(slice_3d_4)"
      ],
      "metadata": {
        "colab": {
          "base_uri": "https://localhost:8080/"
        },
        "id": "e_7t6keieEiJ",
        "outputId": "9ac3617b-1736-4a68-ed60-ad1f6581a8ed"
      },
      "execution_count": null,
      "outputs": [
        {
          "output_type": "stream",
          "name": "stdout",
          "text": [
            "[[[ 1  3]]\n",
            "\n",
            " [[ 9 11]]\n",
            "\n",
            " [[17 19]]]\n"
          ]
        }
      ]
    },
    {
      "cell_type": "code",
      "source": [
        "# Slicing with negative step\n",
        "slice_3d_5 = arr_3d_2[::-1, ::-1, ::-1]  # Reversing all dimensions\n",
        "print(slice_3d_5)"
      ],
      "metadata": {
        "colab": {
          "base_uri": "https://localhost:8080/"
        },
        "id": "9Flu9qSteHNx",
        "outputId": "e47f8918-d893-404f-90e9-cba53a068e10"
      },
      "execution_count": null,
      "outputs": [
        {
          "output_type": "stream",
          "name": "stdout",
          "text": [
            "[[[24 23 22 21]\n",
            "  [20 19 18 17]]\n",
            "\n",
            " [[16 15 14 13]\n",
            "  [12 11 10  9]]\n",
            "\n",
            " [[ 8  7  6  5]\n",
            "  [ 4  3  2  1]]]\n"
          ]
        }
      ]
    },
    {
      "cell_type": "markdown",
      "source": [
        "Discuss Fig 1.3 in lab workbook"
      ],
      "metadata": {
        "id": "9__VQRzZ_C-L"
      }
    },
    {
      "cell_type": "markdown",
      "source": [
        "# Reshaping Arrays"
      ],
      "metadata": {
        "id": "ue-7Sj8wBuky"
      }
    },
    {
      "cell_type": "markdown",
      "source": [
        "An array can be converted from one shape to another without copying any data. To do this, pass a tuple indicating the new shape to the reshape array instance method. For example, suppose there is a one-dimensional array of values to rearrange into a matrix:"
      ],
      "metadata": {
        "id": "Mx2M2vKOB0WM"
      }
    },
    {
      "cell_type": "code",
      "source": [
        "arr = np.arange(8)\n",
        "arr\n"
      ],
      "metadata": {
        "colab": {
          "base_uri": "https://localhost:8080/"
        },
        "id": "iDBvohvJ_HGn",
        "outputId": "13930f58-cb03-48ac-f6b7-d94e4d4206fb"
      },
      "execution_count": null,
      "outputs": [
        {
          "output_type": "execute_result",
          "data": {
            "text/plain": [
              "array([0, 1, 2, 3, 4, 5, 6, 7])"
            ]
          },
          "metadata": {},
          "execution_count": 165
        }
      ]
    },
    {
      "cell_type": "code",
      "source": [
        "arr.reshape((4, 2))\n"
      ],
      "metadata": {
        "colab": {
          "base_uri": "https://localhost:8080/"
        },
        "id": "3Ct84T4LCDvl",
        "outputId": "bf76f735-6174-4ae8-afee-4a4c8dc896d4"
      },
      "execution_count": null,
      "outputs": [
        {
          "output_type": "execute_result",
          "data": {
            "text/plain": [
              "array([[0, 1],\n",
              "       [2, 3],\n",
              "       [4, 5],\n",
              "       [6, 7]])"
            ]
          },
          "metadata": {},
          "execution_count": 166
        }
      ]
    },
    {
      "cell_type": "code",
      "source": [
        "arr.reshape((2, 4))"
      ],
      "metadata": {
        "colab": {
          "base_uri": "https://localhost:8080/"
        },
        "id": "zruLpsxSCdpQ",
        "outputId": "7d00d78c-f5d9-48f7-a267-6c9ce916c291"
      },
      "execution_count": null,
      "outputs": [
        {
          "output_type": "execute_result",
          "data": {
            "text/plain": [
              "array([[0, 1, 2, 3],\n",
              "       [4, 5, 6, 7]])"
            ]
          },
          "metadata": {},
          "execution_count": 167
        }
      ]
    },
    {
      "cell_type": "markdown",
      "source": [
        "One of the passed shape dimensions can be -1, in which case the value used for that dimension will be inferred from the data:"
      ],
      "metadata": {
        "id": "EhvfHf2YCtFG"
      }
    },
    {
      "cell_type": "code",
      "source": [
        "arr = np.arange(15)\n",
        "arr.reshape((5, -1))"
      ],
      "metadata": {
        "colab": {
          "base_uri": "https://localhost:8080/"
        },
        "id": "jpW1vV9TCtxN",
        "outputId": "f9683e3a-9c85-40cc-e921-d04201044b42"
      },
      "execution_count": null,
      "outputs": [
        {
          "output_type": "execute_result",
          "data": {
            "text/plain": [
              "array([[ 0,  1,  2],\n",
              "       [ 3,  4,  5],\n",
              "       [ 6,  7,  8],\n",
              "       [ 9, 10, 11],\n",
              "       [12, 13, 14]])"
            ]
          },
          "metadata": {},
          "execution_count": 168
        }
      ]
    },
    {
      "cell_type": "markdown",
      "source": [
        "Flattening or raveling a NumPy array refers to the process of converting a multi-dimensional array into a one-dimensional array. This means that all the elements of the array are placed in a single, linear sequence. In NumPy, you can achieve this using the flatten() or ravel() function"
      ],
      "metadata": {
        "id": "t-l5DxQ0RiSI"
      }
    },
    {
      "cell_type": "markdown",
      "source": [
        "flatten(): This function returns a copy of the array collapsed into one dimension. It always returns a copy of the original array, even if the array is already one-dimensional. Therefore, modifications to the flattened array do not affect the original array."
      ],
      "metadata": {
        "id": "N42n9LeuR0Ka"
      }
    },
    {
      "cell_type": "code",
      "source": [
        "arr = np.array([[1, 2, 3], [4, 5, 6]])\n",
        "flattened_arr = arr.flatten()\n",
        "print(flattened_arr)\n",
        "\n"
      ],
      "metadata": {
        "colab": {
          "base_uri": "https://localhost:8080/"
        },
        "id": "twwnnpOXRrF7",
        "outputId": "8b7ce274-420a-409e-a965-77e912120a7e"
      },
      "execution_count": null,
      "outputs": [
        {
          "output_type": "stream",
          "name": "stdout",
          "text": [
            "[1 2 3 4 5 6]\n"
          ]
        }
      ]
    },
    {
      "cell_type": "markdown",
      "source": [
        "ravel(): This function returns a one-dimensional view of the input array. If modifications are made to the resulting array, they will affect the original array as well, since ravel() returns a view rather than a copy whenever possible. However, if the resulting array is modified in such a way that it cannot be represented as a contiguous slice of the original array, a copy will be made."
      ],
      "metadata": {
        "id": "XoSXeQ0MSP4e"
      }
    },
    {
      "cell_type": "code",
      "source": [
        "arr = np.array([[1, 2, 3], [4, 5, 6]])\n",
        "raveled_arr = arr.ravel()\n",
        "print(raveled_arr)\n"
      ],
      "metadata": {
        "colab": {
          "base_uri": "https://localhost:8080/"
        },
        "id": "sFMKf1EYSQ3L",
        "outputId": "22d12b76-1c53-40e6-dc2d-710d679d063e"
      },
      "execution_count": null,
      "outputs": [
        {
          "output_type": "stream",
          "name": "stdout",
          "text": [
            "[1 2 3 4 5 6]\n"
          ]
        }
      ]
    },
    {
      "cell_type": "markdown",
      "source": [
        "# Concatenating and Splitting Arrays"
      ],
      "metadata": {
        "id": "ps6rpxv2VIM3"
      }
    },
    {
      "cell_type": "markdown",
      "source": [
        "numpy.concatenate takes a sequence (tuple, list, etc.) of arrays and joins them together in order along the input axis.\n",
        "\n",
        "*   When axis=0, it means that arrays will be concatenated along the first axis, which is typically the rows axis. This means that arrays will be stacked vertically on top of each other.\n",
        "\n",
        "*   When axis=1, it means that arrays will be concatenated along the second axis, which is typically the columns axis. This means that arrays will be stacked side by side.\n",
        "\n"
      ],
      "metadata": {
        "id": "RjqQ6d_oVJO6"
      }
    },
    {
      "cell_type": "code",
      "source": [
        "arr1 = np.array([[1, 2, 3], [4, 5, 6]])\n",
        "arr2 = np.array([[7, 8, 9], [10, 11, 12]])\n",
        "np.concatenate([arr1, arr2], axis=0)"
      ],
      "metadata": {
        "colab": {
          "base_uri": "https://localhost:8080/"
        },
        "id": "dYI-8XtUVM_z",
        "outputId": "53dc67c0-c04a-4f5d-823f-ae375278ac59"
      },
      "execution_count": null,
      "outputs": [
        {
          "output_type": "execute_result",
          "data": {
            "text/plain": [
              "array([[ 1,  2,  3],\n",
              "       [ 4,  5,  6],\n",
              "       [ 7,  8,  9],\n",
              "       [10, 11, 12]])"
            ]
          },
          "metadata": {},
          "execution_count": 171
        }
      ]
    },
    {
      "cell_type": "code",
      "source": [
        "np.concatenate([arr1, arr2], axis=1)"
      ],
      "metadata": {
        "colab": {
          "base_uri": "https://localhost:8080/"
        },
        "id": "acOH7pODVbyJ",
        "outputId": "a07823ad-f60c-47d7-9c1b-277c1b7ff265"
      },
      "execution_count": null,
      "outputs": [
        {
          "output_type": "execute_result",
          "data": {
            "text/plain": [
              "array([[ 1,  2,  3,  7,  8,  9],\n",
              "       [ 4,  5,  6, 10, 11, 12]])"
            ]
          },
          "metadata": {},
          "execution_count": 172
        }
      ]
    },
    {
      "cell_type": "markdown",
      "source": [
        "The np.split() function in NumPy is used to split an array into multiple sub-arrays along a specified axis"
      ],
      "metadata": {
        "id": "0KWI6cQ_WlwV"
      }
    },
    {
      "cell_type": "code",
      "source": [
        "# Create an array\n",
        "arr = np.arange(10)\n",
        "\n",
        "# Split the array into 5 equal-sized sub-arrays\n",
        "sub_arrays = np.split(arr, 5)\n",
        "print(\"Split array into 5 sub-arrays:\")\n",
        "for sub_arr in sub_arrays:\n",
        "    print(sub_arr)"
      ],
      "metadata": {
        "colab": {
          "base_uri": "https://localhost:8080/"
        },
        "id": "d01oeZw-Wmc1",
        "outputId": "f29cccb1-3503-46d6-b1b9-29be741b3dcd"
      },
      "execution_count": null,
      "outputs": [
        {
          "output_type": "stream",
          "name": "stdout",
          "text": [
            "Split array into 5 sub-arrays:\n",
            "[0 1]\n",
            "[2 3]\n",
            "[4 5]\n",
            "[6 7]\n",
            "[8 9]\n"
          ]
        }
      ]
    },
    {
      "cell_type": "markdown",
      "source": [
        "In this example, the np.split() function splits the array arr into 5 equal-sized sub-arrays along the default axis (axis 0), resulting in arrays with two elements each\n",
        "\n",
        "You can also specify the axis along which to split the array. Here's an example of splitting a 2D array along the columns axis (axis 1):"
      ],
      "metadata": {
        "id": "uxYU9ZmGW3Av"
      }
    },
    {
      "cell_type": "code",
      "source": [
        "#Create a 2D array\n",
        "arr_2d = np.array([[1, 2, 3],\n",
        "                   [4, 5, 6],\n",
        "                   [7, 8, 9]])\n",
        "\n",
        "# Split the array along axis 1 (columns)\n",
        "sub_arrays = np.split(arr_2d, 3, axis=1)\n",
        "print(\"Split array along columns (axis=1):\")\n",
        "for sub_arr in sub_arrays:\n",
        "    print(sub_arr)"
      ],
      "metadata": {
        "colab": {
          "base_uri": "https://localhost:8080/"
        },
        "id": "jG7rThitW33-",
        "outputId": "63bdce8b-7691-4f95-ed90-29d9cfbcc35a"
      },
      "execution_count": null,
      "outputs": [
        {
          "output_type": "stream",
          "name": "stdout",
          "text": [
            "Split array along columns (axis=1):\n",
            "[[1]\n",
            " [4]\n",
            " [7]]\n",
            "[[2]\n",
            " [5]\n",
            " [8]]\n",
            "[[3]\n",
            " [6]\n",
            " [9]]\n"
          ]
        }
      ]
    },
    {
      "cell_type": "markdown",
      "source": [
        "# Transposing Arrays and Swapping Axes"
      ],
      "metadata": {
        "id": "1qi2mFgidMzJ"
      }
    },
    {
      "cell_type": "markdown",
      "source": [
        "Transposing is a special form of reshaping which similarly returns a view on the underlying data without copying anything. Arrays have the transpose method and also the special T attribute"
      ],
      "metadata": {
        "id": "FUmGqbWwdN03"
      }
    },
    {
      "cell_type": "code",
      "source": [
        "arr = np.arange(15).reshape((3, 5))\n",
        "arr"
      ],
      "metadata": {
        "colab": {
          "base_uri": "https://localhost:8080/"
        },
        "id": "RYS2G7CUdTeW",
        "outputId": "374f1a67-7970-4a7a-af6e-aa1e9f2c335f"
      },
      "execution_count": null,
      "outputs": [
        {
          "output_type": "execute_result",
          "data": {
            "text/plain": [
              "array([[ 0,  1,  2,  3,  4],\n",
              "       [ 5,  6,  7,  8,  9],\n",
              "       [10, 11, 12, 13, 14]])"
            ]
          },
          "metadata": {},
          "execution_count": 175
        }
      ]
    },
    {
      "cell_type": "code",
      "source": [
        "arr.T"
      ],
      "metadata": {
        "colab": {
          "base_uri": "https://localhost:8080/"
        },
        "id": "RJ3ztATqdZV9",
        "outputId": "81fd6bcf-e92c-456f-cc71-1a1a41eeb418"
      },
      "execution_count": null,
      "outputs": [
        {
          "output_type": "execute_result",
          "data": {
            "text/plain": [
              "array([[ 0,  5, 10],\n",
              "       [ 1,  6, 11],\n",
              "       [ 2,  7, 12],\n",
              "       [ 3,  8, 13],\n",
              "       [ 4,  9, 14]])"
            ]
          },
          "metadata": {},
          "execution_count": 176
        }
      ]
    },
    {
      "cell_type": "markdown",
      "source": [
        "Simple transposing with .T is just a special case of swapping axes. ndarray has the method swapaxes which takes a pair of axis numbers:"
      ],
      "metadata": {
        "id": "nVRs60u8fykN"
      }
    },
    {
      "cell_type": "code",
      "source": [
        "arr = np.arange(16).reshape((2, 2, 4))\n",
        "arr\n"
      ],
      "metadata": {
        "colab": {
          "base_uri": "https://localhost:8080/"
        },
        "id": "Hj1kZdO8fzEp",
        "outputId": "a374b6c5-e5a8-4403-e146-97f7f496ab82"
      },
      "execution_count": null,
      "outputs": [
        {
          "output_type": "execute_result",
          "data": {
            "text/plain": [
              "array([[[ 0,  1,  2,  3],\n",
              "        [ 4,  5,  6,  7]],\n",
              "\n",
              "       [[ 8,  9, 10, 11],\n",
              "        [12, 13, 14, 15]]])"
            ]
          },
          "metadata": {},
          "execution_count": 177
        }
      ]
    },
    {
      "cell_type": "code",
      "source": [
        "arr.swapaxes(1, 2)"
      ],
      "metadata": {
        "colab": {
          "base_uri": "https://localhost:8080/"
        },
        "id": "--gdbiHfgUdR",
        "outputId": "52cf89b4-f915-4bf2-d94d-7afc486d1ac3"
      },
      "execution_count": null,
      "outputs": [
        {
          "output_type": "execute_result",
          "data": {
            "text/plain": [
              "array([[[ 0,  4],\n",
              "        [ 1,  5],\n",
              "        [ 2,  6],\n",
              "        [ 3,  7]],\n",
              "\n",
              "       [[ 8, 12],\n",
              "        [ 9, 13],\n",
              "        [10, 14],\n",
              "        [11, 15]]])"
            ]
          },
          "metadata": {},
          "execution_count": 178
        }
      ]
    },
    {
      "cell_type": "markdown",
      "source": [
        "The original array arr has shape (2, 2, 4), where:\n",
        "\n",
        "\n",
        "*   The first axis (axis 0) has length 2\n",
        "*   The second axis (axis 1) has length 2,\n",
        "*   The third axis (axis 2) has length 4.\n",
        "\n",
        "By swapping axes 1 and 2, you are effectively transposing the last two dimensions. The resulting array will have shape (2, 4, 2).\n",
        "\n",
        "\n"
      ],
      "metadata": {
        "id": "dNTRpYLpgdb0"
      }
    },
    {
      "cell_type": "markdown",
      "source": [
        "# Mathematical and Statistical methods"
      ],
      "metadata": {
        "id": "LSY8LcLOhTeZ"
      }
    },
    {
      "cell_type": "code",
      "source": [
        "arr = np.array([1, 2, 3, 4, 5])\n",
        "# Sum of all elements in the array\n",
        "print(\"Sum:\", np.sum(arr))\n",
        "\n",
        "# Mean of the array\n",
        "print(\"Mean:\", np.mean(arr))\n",
        "\n",
        "# Standard deviation of the array\n",
        "print(\"Standard Deviation:\", np.std(arr))\n",
        "\n",
        "# Square root of each element in the array\n",
        "print(\"Square Root:\", np.sqrt(arr))\n",
        "\n"
      ],
      "metadata": {
        "colab": {
          "base_uri": "https://localhost:8080/"
        },
        "id": "8ApYyXpEhXDV",
        "outputId": "47e326bd-67c8-4dc1-d0ce-456ebce1857e"
      },
      "execution_count": null,
      "outputs": [
        {
          "output_type": "stream",
          "name": "stdout",
          "text": [
            "Sum: 15\n",
            "Mean: 3.0\n",
            "Standard Deviation: 1.4142135623730951\n",
            "Square Root: [1.         1.41421356 1.73205081 2.         2.23606798]\n"
          ]
        }
      ]
    },
    {
      "cell_type": "code",
      "source": [
        "# Create a 2D array\n",
        "arr_2d = np.array([[1, 2, 3],\n",
        "                   [4, 5, 6]])\n",
        "\n",
        "# Minimum value in the array\n",
        "print(\"Minimum:\", np.min(arr_2d))\n",
        "\n",
        "# Maximum value in the array\n",
        "print(\"Maximum:\", np.max(arr_2d))\n",
        "\n",
        "# Mean along a specific axis (axis=0 means along columns)\n",
        "print(\"Mean along axis 0:\", np.mean(arr_2d, axis=0))\n",
        "\n",
        "# Standard deviation along a specific axis (axis=1 means along rows)\n",
        "print(\"Standard Deviation along axis 1:\", np.std(arr_2d, axis=1))"
      ],
      "metadata": {
        "colab": {
          "base_uri": "https://localhost:8080/"
        },
        "id": "O_qkHKi3iFcu",
        "outputId": "0871c0ca-2cde-4541-dad3-98de4ce7571f"
      },
      "execution_count": null,
      "outputs": [
        {
          "output_type": "stream",
          "name": "stdout",
          "text": [
            "Minimum: 1\n",
            "Maximum: 6\n",
            "Mean along axis 0: [2.5 3.5 4.5]\n",
            "Standard Deviation along axis 1: [0.81649658 0.81649658]\n"
          ]
        }
      ]
    },
    {
      "cell_type": "markdown",
      "source": [
        "# Linear Algebra"
      ],
      "metadata": {
        "id": "Dts260fWkyjv"
      }
    },
    {
      "cell_type": "markdown",
      "source": [
        " NumPy provides a comprehensive set of functions for linear algebra operations."
      ],
      "metadata": {
        "id": "34bkSA-Vk1cH"
      }
    },
    {
      "cell_type": "code",
      "source": [
        "# Creating a 2x2 matrix\n",
        "A = np.array([[1, 2],\n",
        "              [3, 4]])\n",
        "\n",
        "# Creating a 1D vector\n",
        "v = np.array([5, 6])"
      ],
      "metadata": {
        "id": "08hS6c0rk8-S"
      },
      "execution_count": null,
      "outputs": []
    },
    {
      "cell_type": "code",
      "source": [
        "# Matrix multiplication\n",
        "result = np.dot(A, v)\n",
        "print(\"Matrix-vector multiplication:\")\n",
        "print(result)"
      ],
      "metadata": {
        "colab": {
          "base_uri": "https://localhost:8080/"
        },
        "id": "G6MbELzGk-SK",
        "outputId": "5d793ced-d2e7-4c7b-df2c-e2d467ce278b"
      },
      "execution_count": null,
      "outputs": [
        {
          "output_type": "stream",
          "name": "stdout",
          "text": [
            "Matrix-vector multiplication:\n",
            "[17 39]\n"
          ]
        }
      ]
    },
    {
      "cell_type": "code",
      "source": [
        "# Transpose of a matrix\n",
        "transpose_A = np.transpose(A)\n",
        "print(\"Transpose of A:\")\n",
        "print(transpose_A)"
      ],
      "metadata": {
        "colab": {
          "base_uri": "https://localhost:8080/"
        },
        "id": "pxKLNFEQlCSW",
        "outputId": "3fab332e-ff86-4b8a-ca57-c58249e8295e"
      },
      "execution_count": null,
      "outputs": [
        {
          "output_type": "stream",
          "name": "stdout",
          "text": [
            "Transpose of A:\n",
            "[[1 3]\n",
            " [2 4]]\n"
          ]
        }
      ]
    },
    {
      "cell_type": "code",
      "source": [
        "# Matrix inverse\n",
        "inverse_A = np.linalg.inv(A)\n",
        "print(\"Inverse of A:\")\n",
        "print(inverse_A)"
      ],
      "metadata": {
        "colab": {
          "base_uri": "https://localhost:8080/"
        },
        "id": "v7vFgA1AlGL9",
        "outputId": "338af01b-d338-4cfd-b166-a8710073370a"
      },
      "execution_count": null,
      "outputs": [
        {
          "output_type": "stream",
          "name": "stdout",
          "text": [
            "Inverse of A:\n",
            "[[-2.   1. ]\n",
            " [ 1.5 -0.5]]\n"
          ]
        }
      ]
    },
    {
      "cell_type": "code",
      "source": [
        "# Determinant of a matrix\n",
        "det_A = np.linalg.det(A)\n",
        "print(\"Determinant of A:\", det_A)"
      ],
      "metadata": {
        "colab": {
          "base_uri": "https://localhost:8080/"
        },
        "id": "y08DuRtVlKAS",
        "outputId": "fa1cb341-bd36-4521-918e-ae220da1a260"
      },
      "execution_count": null,
      "outputs": [
        {
          "output_type": "stream",
          "name": "stdout",
          "text": [
            "Determinant of A: -2.0000000000000004\n"
          ]
        }
      ]
    },
    {
      "cell_type": "code",
      "source": [
        "# Eigenvalues and eigenvectors\n",
        "eigenvalues, eigenvectors = np.linalg.eig(A)\n",
        "print(\"Eigenvalues of A:\", eigenvalues)\n",
        "print(\"Eigenvectors of A:\", eigenvectors)"
      ],
      "metadata": {
        "colab": {
          "base_uri": "https://localhost:8080/"
        },
        "id": "t_KidD66lM-N",
        "outputId": "eefe64f0-e4c3-4227-f2cb-420bdafad8e7"
      },
      "execution_count": null,
      "outputs": [
        {
          "output_type": "stream",
          "name": "stdout",
          "text": [
            "Eigenvalues of A: [-0.37228132  5.37228132]\n",
            "Eigenvectors of A: [[-0.82456484 -0.41597356]\n",
            " [ 0.56576746 -0.90937671]]\n"
          ]
        }
      ]
    },
    {
      "cell_type": "code",
      "source": [
        "# Solving linear equations: Ax = b\n",
        "b = np.array([7, 8])\n",
        "solution = np.linalg.solve(A, b)\n",
        "print(\"Solution of Ax = b:\", solution)"
      ],
      "metadata": {
        "colab": {
          "base_uri": "https://localhost:8080/"
        },
        "id": "zmyzZkaBlPXh",
        "outputId": "db59b5f7-533e-4334-ce68-6f7946fbbba3"
      },
      "execution_count": null,
      "outputs": [
        {
          "output_type": "stream",
          "name": "stdout",
          "text": [
            "Solution of Ax = b: [-6.   6.5]\n"
          ]
        }
      ]
    },
    {
      "cell_type": "markdown",
      "source": [
        "# File Input and Output with Arrays"
      ],
      "metadata": {
        "id": "YLv66QpHWbQN"
      }
    },
    {
      "cell_type": "markdown",
      "source": [
        "NumPy is able to save and load data to and from disk either in text or binary format"
      ],
      "metadata": {
        "id": "mpNXrC-3WcNG"
      }
    },
    {
      "cell_type": "code",
      "source": [
        "arr = np.arange(10)\n",
        "np.save('some_array', arr)"
      ],
      "metadata": {
        "id": "HCAAm8CKWfrR"
      },
      "execution_count": null,
      "outputs": []
    },
    {
      "cell_type": "markdown",
      "source": [
        "If the file path does not already end in .npy, the extension will be appended. The array on disk can then be loaded using np.load:"
      ],
      "metadata": {
        "id": "nypQ3jZnWs8f"
      }
    },
    {
      "cell_type": "code",
      "source": [
        "np.load('some_array.npy')"
      ],
      "metadata": {
        "colab": {
          "base_uri": "https://localhost:8080/"
        },
        "id": "3UHEof5gWtm-",
        "outputId": "fd711d93-e912-4b65-ed20-ffab55ffda36"
      },
      "execution_count": null,
      "outputs": [
        {
          "output_type": "execute_result",
          "data": {
            "text/plain": [
              "array([0, 1, 2, 3, 4, 5, 6, 7, 8, 9])"
            ]
          },
          "metadata": {},
          "execution_count": 189
        }
      ]
    },
    {
      "cell_type": "markdown",
      "source": [
        "Multiple arrays are saved in a zip archive using np.savez and passing the arrays as keyword arguments:"
      ],
      "metadata": {
        "id": "GEtWESUrXUCI"
      }
    },
    {
      "cell_type": "code",
      "source": [
        "np.savez('array_archive.npz', a=arr, b=arr)"
      ],
      "metadata": {
        "id": "ZlmoamJRXWLX"
      },
      "execution_count": null,
      "outputs": []
    },
    {
      "cell_type": "markdown",
      "source": [
        "When loading an .npz file, a dict-like object is got back which loads the individual arrays lazily:"
      ],
      "metadata": {
        "id": "UxKTTil8cD2k"
      }
    },
    {
      "cell_type": "code",
      "source": [
        "arch = np.load('array_archive.npz')"
      ],
      "metadata": {
        "id": "PjP8tgmVcEgx"
      },
      "execution_count": null,
      "outputs": []
    },
    {
      "cell_type": "code",
      "source": [
        "arch['b']"
      ],
      "metadata": {
        "colab": {
          "base_uri": "https://localhost:8080/"
        },
        "id": "zHxBKL4YcI-2",
        "outputId": "b8f497af-0c5b-43e5-a4cd-df3043f50f48"
      },
      "execution_count": null,
      "outputs": [
        {
          "output_type": "execute_result",
          "data": {
            "text/plain": [
              "array([0, 1, 2, 3, 4, 5, 6, 7, 8, 9])"
            ]
          },
          "metadata": {},
          "execution_count": 192
        }
      ]
    },
    {
      "cell_type": "code",
      "source": [
        "arch['a']"
      ],
      "metadata": {
        "colab": {
          "base_uri": "https://localhost:8080/"
        },
        "id": "HJqVutTPcLsE",
        "outputId": "70b2423d-3f36-45ea-96cd-127744a3119d"
      },
      "execution_count": null,
      "outputs": [
        {
          "output_type": "execute_result",
          "data": {
            "text/plain": [
              "array([0, 1, 2, 3, 4, 5, 6, 7, 8, 9])"
            ]
          },
          "metadata": {},
          "execution_count": 193
        }
      ]
    },
    {
      "cell_type": "markdown",
      "source": [
        "# Saving and Loading Text Files"
      ],
      "metadata": {
        "id": "Wz7NcBFKcbUa"
      }
    },
    {
      "cell_type": "code",
      "source": [
        "from google.colab import drive\n",
        "drive.mount('/content/drive')\n"
      ],
      "metadata": {
        "colab": {
          "base_uri": "https://localhost:8080/"
        },
        "id": "g7qwmG9nccHO",
        "outputId": "9607d3fa-633f-41ed-a3ca-1eda2a860d6f"
      },
      "execution_count": null,
      "outputs": [
        {
          "output_type": "stream",
          "name": "stdout",
          "text": [
            "Mounted at /content/drive\n"
          ]
        }
      ]
    },
    {
      "cell_type": "code",
      "source": [
        "arr = np.loadtxt('/content/drive/My Drive/Colab Notebooks/arr_ex.txt', delimiter=',')\n",
        "arr\n"
      ],
      "metadata": {
        "colab": {
          "base_uri": "https://localhost:8080/"
        },
        "id": "rE53AvxGgIpw",
        "outputId": "f4a1de58-489f-4d37-fbbf-aa91067bcc4a"
      },
      "execution_count": null,
      "outputs": [
        {
          "output_type": "execute_result",
          "data": {
            "text/plain": [
              "array([[ 0.580052,  0.18673 ,  1.040717,  1.134411],\n",
              "       [ 0.194163, -0.636917, -0.938659,  0.124094],\n",
              "       [-0.12641 ,  0.268607, -0.695724,  0.047428],\n",
              "       [-1.484413,  0.004176, -0.744203,  0.005487],\n",
              "       [ 2.302869,  0.200131,  1.670238, -1.88109 ],\n",
              "       [-0.19323 ,  1.047233,  0.482803,  0.960334]])"
            ]
          },
          "metadata": {},
          "execution_count": 93
        }
      ]
    },
    {
      "cell_type": "markdown",
      "source": [
        "np.savetxt performs the inverse operation: writing an array to a delimited text file"
      ],
      "metadata": {
        "id": "5AcMKwpogUNI"
      }
    },
    {
      "cell_type": "markdown",
      "source": [
        "# Broadcasting"
      ],
      "metadata": {
        "id": "2aWLb0gm7L2d"
      }
    },
    {
      "cell_type": "markdown",
      "source": [
        "The term broadcasting refers to the ability of NumPy to treat arrays of different shapes during arithmetic operations"
      ],
      "metadata": {
        "id": "KPngrlx280eV"
      }
    },
    {
      "cell_type": "code",
      "source": [
        "x = np.array([[0], [1], [2]])\n",
        "y = np.array([[3, 4, 5]])"
      ],
      "metadata": {
        "id": "eb7EImhY-W5-"
      },
      "execution_count": null,
      "outputs": []
    },
    {
      "cell_type": "code",
      "source": [
        "print(x)\n",
        "print(y)"
      ],
      "metadata": {
        "colab": {
          "base_uri": "https://localhost:8080/"
        },
        "id": "AunhZVu2-fYI",
        "outputId": "fe68cac0-1ac4-42f6-95d4-d71961e513ab"
      },
      "execution_count": null,
      "outputs": [
        {
          "output_type": "stream",
          "name": "stdout",
          "text": [
            "[[0]\n",
            " [1]\n",
            " [2]]\n",
            "[[3 4 5]]\n"
          ]
        }
      ]
    },
    {
      "cell_type": "code",
      "source": [
        "x + y"
      ],
      "metadata": {
        "colab": {
          "base_uri": "https://localhost:8080/"
        },
        "id": "qLsGhmXT-ke5",
        "outputId": "358e164d-ac87-477b-e036-227af60d2a41"
      },
      "execution_count": null,
      "outputs": [
        {
          "output_type": "execute_result",
          "data": {
            "text/plain": [
              "array([[3, 4, 5],\n",
              "       [4, 5, 6],\n",
              "       [5, 6, 7]])"
            ]
          },
          "metadata": {},
          "execution_count": 96
        }
      ]
    },
    {
      "cell_type": "markdown",
      "source": [
        "# Shape Compatibility Rules"
      ],
      "metadata": {
        "id": "wYrJ3yKn-u1r"
      }
    },
    {
      "cell_type": "markdown",
      "source": [
        "1.   If x, y have a different number of dimensions, prepend 1's to the shape of the shorter.\n",
        "2.   Any axis of length 1 can be repeated (broadcast) to the length of the other vector's length in that axis\n",
        "3. All other axes must have matching lengths.\n",
        "\n",
        "Use these rules to compute whether the arrays are compatible and, if so, the broadcasted shape.\n",
        "\n"
      ],
      "metadata": {
        "id": "z7PIN0J6-V8O"
      }
    },
    {
      "cell_type": "code",
      "source": [
        "x.shape == (2, 3)\n",
        "\n",
        "y.shape == (2, 3)  # compatible\n",
        "y.shape == (2, 1)  # compatible\n",
        "y.shape == (1, 3)  # compatible\n",
        "y.shape == (3,)  # compatible\n",
        "\n",
        "# results in (2, 3) shape\n",
        "\n",
        "y.shape == (3, 2)  # NOT compatible\n",
        "y.shape == (2,)  # NOT compatible"
      ],
      "metadata": {
        "colab": {
          "base_uri": "https://localhost:8080/"
        },
        "id": "M_rwQj6L_ExQ",
        "outputId": "5f3a1979-4e0a-4d26-d981-6388d6691d32"
      },
      "execution_count": null,
      "outputs": [
        {
          "output_type": "execute_result",
          "data": {
            "text/plain": [
              "False"
            ]
          },
          "metadata": {},
          "execution_count": 97
        }
      ]
    },
    {
      "cell_type": "code",
      "source": [
        "x.shape == (1000, 256, 256, 256)\n",
        "\n",
        "y.shape == (1000, 256, 256, 256)  # compatible\n",
        "y.shape == (1000, 1, 256, 256)  # compatible\n",
        "y.shape == (1000, 1, 1, 256)  # compatible\n",
        "y.shape == (1, 256, 256, 256)  # compatible\n",
        "y.shape == (1, 1, 256, 1)  # compatible\n",
        "\n",
        "# results in (1000, 256, 256, 256) shape\n",
        "\n",
        "y.shape == (1000, 256, 256)  # NOT compatible"
      ],
      "metadata": {
        "colab": {
          "base_uri": "https://localhost:8080/"
        },
        "id": "ddnl-df4_fAn",
        "outputId": "6a461c7d-fcd0-4918-c237-4b0bf28babec"
      },
      "execution_count": null,
      "outputs": [
        {
          "output_type": "execute_result",
          "data": {
            "text/plain": [
              "False"
            ]
          },
          "metadata": {},
          "execution_count": 98
        }
      ]
    },
    {
      "cell_type": "code",
      "source": [
        "x.shape == (1, 2, 3, 5, 1, 11, 1, 17)\n",
        "y.shape ==          (1, 7, 1,  1, 17)  # compatible\n",
        "\n",
        "# results in shape (1, 2, 3, 5, 7, 11, 1, 17)"
      ],
      "metadata": {
        "colab": {
          "base_uri": "https://localhost:8080/"
        },
        "id": "jbH9d9eJ_kN2",
        "outputId": "7a0f632e-0c36-4a65-ed74-35af962ce27b"
      },
      "execution_count": null,
      "outputs": [
        {
          "output_type": "execute_result",
          "data": {
            "text/plain": [
              "False"
            ]
          },
          "metadata": {},
          "execution_count": 99
        }
      ]
    },
    {
      "cell_type": "markdown",
      "source": [
        "# Once shapes match, use for-loop to understand"
      ],
      "metadata": {
        "id": "CkvMvISy_pw2"
      }
    },
    {
      "cell_type": "markdown",
      "source": [
        "For any axis with length 1, use the only possible value."
      ],
      "metadata": {
        "id": "1gP4RxWsAjC-"
      }
    },
    {
      "cell_type": "code",
      "source": [
        "x = np.array([[0, 1, 2],\n",
        "              [3, 4, 5],\n",
        "              [6, 7, 8]])\n",
        "y = np.array([1, 10, 100]).reshape(3, 1)\n",
        "\n",
        "print(x + y)\n",
        "\n",
        "# x     (3, 3)\n",
        "# y     (3, 1)\n",
        "shape = (3, 3)\n",
        "out = np.empty(shape, dtype=int)\n",
        "N0, N1 = shape\n",
        "for i in range(N0):\n",
        "    for j in range(N1):\n",
        "        # in the dimension that y only has 1 element, just use it\n",
        "        out[i, j] = x[i, j] + y[i, 0]\n",
        "print(out)"
      ],
      "metadata": {
        "colab": {
          "base_uri": "https://localhost:8080/"
        },
        "id": "Jx3XIfCC_-eO",
        "outputId": "c4a80a41-cb13-4ab9-fa52-723fa6dae13b"
      },
      "execution_count": null,
      "outputs": [
        {
          "output_type": "stream",
          "name": "stdout",
          "text": [
            "[[  1   2   3]\n",
            " [ 13  14  15]\n",
            " [106 107 108]]\n",
            "[[  1   2   3]\n",
            " [ 13  14  15]\n",
            " [106 107 108]]\n"
          ]
        }
      ]
    },
    {
      "cell_type": "markdown",
      "source": [
        "Just omit variables for prepended 1's."
      ],
      "metadata": {
        "id": "YpQC9qUZAkbu"
      }
    },
    {
      "cell_type": "code",
      "source": [
        "x = np.array([[[0, 1, 2],\n",
        "               [3, 4, 5],\n",
        "               [6, 7, 8]],\n",
        "              [[9, 10, 11],\n",
        "               [12, 13, 14],\n",
        "               [15, 16, 17]]])  # shape (2, 3, 3)\n",
        "y = np.array([1, 10, 100])     # shape       (3,)\n",
        "\n",
        "print(x + y)\n",
        "\n",
        "# align and prepend\n",
        "# x     (2, 3, 3)\n",
        "# y     (1, 1, 3)\n",
        "shape = (2, 3, 3)\n",
        "out = np.empty(shape, dtype=int)\n",
        "N0, N1, N2 = shape\n",
        "for i in range(N0):\n",
        "    for j in range(N1):\n",
        "        for k in range(N2):\n",
        "            # leave off prepended indices of y\n",
        "            out[i, j, k] = x[i, j, k] + y[k]\n",
        "print(out)"
      ],
      "metadata": {
        "colab": {
          "base_uri": "https://localhost:8080/"
        },
        "id": "4bT0RK3VAmx9",
        "outputId": "1aba506a-8334-4993-e6ec-ef977771eb4b"
      },
      "execution_count": null,
      "outputs": [
        {
          "output_type": "stream",
          "name": "stdout",
          "text": [
            "[[[  1  11 102]\n",
            "  [  4  14 105]\n",
            "  [  7  17 108]]\n",
            "\n",
            " [[ 10  20 111]\n",
            "  [ 13  23 114]\n",
            "  [ 16  26 117]]]\n",
            "[[[  1  11 102]\n",
            "  [  4  14 105]\n",
            "  [  7  17 108]]\n",
            "\n",
            " [[ 10  20 111]\n",
            "  [ 13  23 114]\n",
            "  [ 16  26 117]]]\n"
          ]
        }
      ]
    },
    {
      "cell_type": "markdown",
      "source": [
        "Both arrays can have broadcasted axes, not just one."
      ],
      "metadata": {
        "id": "_j9yFQRXAwxU"
      }
    },
    {
      "cell_type": "code",
      "source": [
        "x = np.array([[0], [1], [2]])  # (3, 1)\n",
        "y = np.array([[3, 4, 5]])     # (1, 3)\n",
        "\n",
        "print(x + y)\n",
        "\n",
        "shape = (3, 3)\n",
        "out = np.empty(shape, dtype=int)\n",
        "N0, N1 = shape\n",
        "for i in range(N0):\n",
        "    for j in range(N1):\n",
        "        out[i, j] = x[i, 0] + y[0, j]\n",
        "print(out)"
      ],
      "metadata": {
        "colab": {
          "base_uri": "https://localhost:8080/"
        },
        "id": "3tH6wJp0AxVm",
        "outputId": "9f320454-8612-4922-89d3-ac4a29110d1a"
      },
      "execution_count": null,
      "outputs": [
        {
          "output_type": "stream",
          "name": "stdout",
          "text": [
            "[[3 4 5]\n",
            " [4 5 6]\n",
            " [5 6 7]]\n",
            "[[3 4 5]\n",
            " [4 5 6]\n",
            " [5 6 7]]\n"
          ]
        }
      ]
    },
    {
      "cell_type": "markdown",
      "source": [
        "Reference:\n",
        "\n",
        "https://www.youtube.com/watch?v=oG1t3qlzq14\n",
        "https://github.com/mCodingLLC/VideosSampleCode/blob/master/videos/032_numpy_broadcasting_explained/numpy_broadcasting.ipynb"
      ],
      "metadata": {
        "id": "7PUR6VIa5FIw"
      }
    }
  ]
}